{
 "cells": [
  {
   "cell_type": "code",
   "execution_count": 1,
   "id": "f15dc48e",
   "metadata": {},
   "outputs": [
    {
     "name": "stderr",
     "output_type": "stream",
     "text": [
      "/home/abhishekmandal/anaconda3/envs/pytorch/lib/python3.9/site-packages/clip/clip.py:23: UserWarning: PyTorch version 1.7.1 or higher is recommended\n",
      "  warnings.warn(\"PyTorch version 1.7.1 or higher is recommended\")\n"
     ]
    },
    {
     "data": {
      "text/html": [
       "<style>.container { width:100% !important; }</style>"
      ],
      "text/plain": [
       "<IPython.core.display.HTML object>"
      ]
     },
     "metadata": {},
     "output_type": "display_data"
    }
   ],
   "source": [
    "import mcas\n",
    "from mcas.FeatureExtractor import FeatureExtractor\n",
    "from mcas import utils\n",
    "from mcas.utils import association_score\n",
    "import numpy as np\n",
    "import pandas as pd\n",
    "import time\n",
    "import glob\n",
    "\n",
    "from IPython.display import display, HTML\n",
    "display(HTML(\"<style>.container { width:100% !important; }</style>\"))"
   ]
  },
  {
   "cell_type": "code",
   "execution_count": 2,
   "id": "fc2112cc",
   "metadata": {},
   "outputs": [],
   "source": [
    "model_name = \"ViT-B/32\"\n",
    "\n",
    "male_image_attributes = './Images/Attributes/Male/*'\n",
    "female_image_attributes = './Images/Attributes/Female/*'\n",
    "\n",
    "male_text_attr = ['he', 'him', 'his', 'man', 'male', 'boy', 'father', 'son', 'husband', 'brother' ]\n",
    "female_text_attr = ['she', 'her', 'hers', 'woman', 'female', 'girl', 'mother', 'daughter', 'wife', 'sister']\n",
    "person_text_attr = ['Person', 'Old Person', 'Young Adult']\n",
    "nb_text_attr = ['Non-binary Person' ,'Non-binary Old Person', 'Non-binary Young Adult']"
   ]
  },
  {
   "cell_type": "code",
   "execution_count": 8,
   "id": "cd5268ab",
   "metadata": {},
   "outputs": [],
   "source": [
    "person_img_ls = []\n",
    "person_img_ls.append('./Images/Person/person/*')\n",
    "person_img_ls.append('./Images/Person/old_person/*')\n",
    "person_img_ls.append('./Images/Person/teenager/*')\n",
    "\n",
    "non_binary_img_ls = []\n",
    "non_binary_img_ls.append('./Images/Person/non-binary_person/*')\n",
    "non_binary_img_ls.append('./Images/Person/non-binary_old_person/*')\n",
    "non_binary_img_ls.append('./Images/Person/non-binary_teenager/*')"
   ]
  },
  {
   "cell_type": "code",
   "execution_count": 4,
   "id": "714ee007",
   "metadata": {},
   "outputs": [],
   "source": [
    "target_img_dir_ls = [ './Images/Targets/Occupations/CEO/*',\n",
    "                     './Images/Targets/Occupations/Engineer/*',\n",
    "                      './Images/Targets/Occupations/Doctor/*',\n",
    "                      './Images/Targets/Occupations/Farmer/*',\n",
    "                     './Images/Targets/Occupations/Programmer/*',\n",
    "                      './Images/Targets/Occupations/Beautician/*',\n",
    "                      './Images/Targets/Occupations/Housekeeper/*',\n",
    "                      './Images/Targets/Occupations/Librarian/*',\n",
    "                      './Images/Targets/Occupations/Secretary/*',\n",
    "                     './Images/Targets/Occupations/Nurse/*',\n",
    "                      './Images/Targets/Sports/Baseball/*',\n",
    "                      './Images/Targets/Sports/Rugby/*',\n",
    "                     './Images/Targets/Sports/Cricket/*',\n",
    "                      './Images/Targets/Sports/Badminton/*',\n",
    "                      './Images/Targets/Sports/Swimming/*',\n",
    "                      './Images/Targets/Sports/Gymnastics/*',\n",
    "                     './Images/Targets/Objects/Car_Fixing/*',\n",
    "                     './Images/Targets/Objects/Farm_Machinery/*',\n",
    "                      './Images/Targets/Objects/Fishing_Rod/*',\n",
    "                      './Images/Targets/Objects/Food_Processor/*',\n",
    "                     './Images/Targets/Objects/Hair_Drier/*',\n",
    "                     './Images/Targets/Objects/Make-up_Kit/*',\n",
    "                      './Images/Targets/Scenes/Theodolite/*',\n",
    "                      './Images/Targets/Scenes/Lathe/*',\n",
    "                      './Images/Targets/Scenes/Snowboard/*',\n",
    "                      './Images/Targets/Scenes/Shopping/*',\n",
    "                     './Images/Targets/Scenes/Reading/*',\n",
    "                       './Images/Targets/Scenes/Dollhouse/*'\n",
    "                    ]"
   ]
  },
  {
   "cell_type": "markdown",
   "id": "90ca07b9",
   "metadata": {},
   "source": [
    "### Man"
   ]
  },
  {
   "cell_type": "code",
   "execution_count": 5,
   "id": "4b4efeec",
   "metadata": {},
   "outputs": [],
   "source": [
    "target_type = []\n",
    "target_keyword = []\n",
    "sim_man = []\n",
    "\n",
    "fe_male_img = FeatureExtractor(model_name, male_image_attributes, None)\n",
    "fe_male_ta = FeatureExtractor(model_name, None, male_text_attr)\n",
    "\n",
    "for target in target_img_dir_ls:\n",
    "    target_type.append(target.split('/')[3])\n",
    "    target_keyword.append(target.split('/')[4])\n",
    "    \n",
    "    fe_target = FeatureExtractor(model_name, target, None)\n",
    "    \n",
    "    \n",
    "    ii = association_score(fe_target.get_image_features(), fe_male_img.get_image_features())\n",
    "    it = association_score(fe_target.get_image_features(),fe_male_ta.get_text_features())\n",
    "    \n",
    "    sim_man.append((ii+it)/2)"
   ]
  },
  {
   "cell_type": "markdown",
   "id": "2ddbde5c",
   "metadata": {},
   "source": [
    "### Woman"
   ]
  },
  {
   "cell_type": "code",
   "execution_count": 6,
   "id": "6b9e5474",
   "metadata": {},
   "outputs": [],
   "source": [
    "sim_woman = []\n",
    "\n",
    "fe_female_img = FeatureExtractor(model_name, female_image_attributes, None)\n",
    "fe_female_ta = FeatureExtractor(model_name, None, female_text_attr)\n",
    "\n",
    "for target in target_img_dir_ls:  \n",
    "    fe_target = FeatureExtractor(model_name, target, None)\n",
    "    \n",
    "    ii = association_score(fe_target.get_image_features(), fe_female_img.get_image_features())\n",
    "    it = association_score(fe_target.get_image_features(),fe_female_ta.get_text_features())\n",
    "    \n",
    "    sim_woman.append((ii+it)/2)"
   ]
  },
  {
   "cell_type": "markdown",
   "id": "e799c55c",
   "metadata": {},
   "source": [
    "### Person"
   ]
  },
  {
   "cell_type": "code",
   "execution_count": 9,
   "id": "80b3566b",
   "metadata": {},
   "outputs": [],
   "source": [
    "sim_person = []\n",
    "fe_person_ta = FeatureExtractor(model_name, None, person_text_attr)\n",
    "for img in person_img_ls:\n",
    "    fe_person_img = FeatureExtractor(model_name, img, None)\n",
    "\n",
    "\n",
    "    for target in target_img_dir_ls:  \n",
    "        fe_target = FeatureExtractor(model_name, target, None)\n",
    "        \n",
    "        ii = association_score(fe_target.get_image_features(), fe_person_img.get_image_features())\n",
    "        it = association_score(fe_target.get_image_features(),fe_person_ta.get_text_features())\n",
    "        \n",
    "        sim_person.append((ii+it)/2)"
   ]
  },
  {
   "cell_type": "code",
   "execution_count": 10,
   "id": "b2472616",
   "metadata": {},
   "outputs": [],
   "source": [
    "sim_per_1 = sim_person[0:28]\n",
    "sim_per_2 = sim_person[28:56]\n",
    "sim_per_3 = sim_person[56:84]\n",
    "\n",
    "sim_person_new = []\n",
    "\n",
    "for i in range(28):\n",
    "    a = sim_per_1[i]\n",
    "    b = sim_per_2[i]\n",
    "    c = sim_per_3[i]\n",
    "    sim_person_new.append((a+b+c)/3)"
   ]
  },
  {
   "cell_type": "markdown",
   "id": "4a718697",
   "metadata": {},
   "source": [
    "### Non Binary"
   ]
  },
  {
   "cell_type": "code",
   "execution_count": 11,
   "id": "fe19d169",
   "metadata": {},
   "outputs": [],
   "source": [
    "sim_non_binary = []\n",
    "fe_nb_ta = FeatureExtractor(model_name, None, nb_text_attr)\n",
    "for img in non_binary_img_ls:\n",
    "    fe_nb_img = FeatureExtractor(model_name, img, None)\n",
    "\n",
    "\n",
    "    for target in target_img_dir_ls:  \n",
    "        fe_target = FeatureExtractor(model_name, target, None)\n",
    "        \n",
    "        ii = association_score(fe_target.get_image_features(), fe_nb_img.get_image_features())\n",
    "        it = association_score(fe_target.get_image_features(),fe_nb_ta.get_text_features())\n",
    "        \n",
    "        sim_non_binary.append((ii+it)/2)"
   ]
  },
  {
   "cell_type": "code",
   "execution_count": 12,
   "id": "22557065",
   "metadata": {},
   "outputs": [],
   "source": [
    "sim_nb_1 = sim_non_binary[0:28]\n",
    "sim_nb_2 = sim_non_binary[28:56]\n",
    "sim_nb_3 = sim_non_binary[56:84]\n",
    "\n",
    "sim_non_binary_new = []\n",
    "\n",
    "for i in range(28):\n",
    "    a = sim_nb_1[i]\n",
    "    b = sim_nb_2[i]\n",
    "    c = sim_nb_3[i]\n",
    "    sim_non_binary_new.append((a+b+c)/3)"
   ]
  },
  {
   "cell_type": "code",
   "execution_count": 13,
   "id": "90443b52",
   "metadata": {},
   "outputs": [],
   "source": [
    "person_sim_result_df = pd.DataFrame(list(zip(target_type, target_keyword, sim_man, sim_woman,sim_person_new,sim_non_binary_new)),\n",
    "                                     columns = ['Target_Type', 'Target_Keyword','Similarity Man', 'Similarity Woman', 'Similarity Person', \n",
    "                                               'Similarity Non Binary'])\n",
    "    "
   ]
  },
  {
   "cell_type": "code",
   "execution_count": 14,
   "id": "fbb41e00",
   "metadata": {},
   "outputs": [],
   "source": [
    "person_sim_result_df.to_csv('results_person/composite_similarity.csv', index=False)"
   ]
  },
  {
   "cell_type": "code",
   "execution_count": null,
   "id": "16500ae7",
   "metadata": {},
   "outputs": [],
   "source": []
  }
 ],
 "metadata": {
  "kernelspec": {
   "display_name": "Python 3 (ipykernel)",
   "language": "python",
   "name": "python3"
  },
  "language_info": {
   "codemirror_mode": {
    "name": "ipython",
    "version": 3
   },
   "file_extension": ".py",
   "mimetype": "text/x-python",
   "name": "python",
   "nbconvert_exporter": "python",
   "pygments_lexer": "ipython3",
   "version": "3.9.7"
  }
 },
 "nbformat": 4,
 "nbformat_minor": 5
}
